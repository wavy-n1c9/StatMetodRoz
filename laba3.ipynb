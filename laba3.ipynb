{
 "cells": [
  {
   "cell_type": "markdown",
   "id": "026da2c4",
   "metadata": {},
   "source": [
    "# Лабораторна робота 3\n",
    "\n",
    "Спостерігається послідовність незалежних нормально розподілених випадкових величин x1,...,xn\n",
    "(наприклад, n=100) з дисперсією 1. \n",
    "Математичне сподівання кожної величини залежить від поточного стану системи. \n",
    "Припустимо, що для стану k=1, математичне сподівання рівне або a1=0 або a1=1, а для стану k=2, математичне сподівання рівне або a2=2 або a2=3. \n",
    "Нехай справжні математичні сподівання рівні a1=0, a2=3, стан k=1 виникає з ймовірністю 1/3, а стан k=2 – з ймовірністю 2/3. Потрібно згенерувати n незалежних випадкових величин з нормальним розподілом, причому з ймовірністю 1/3 їх математичне сподівання рівне 0, дисперсія рівна 1, а з ймовірністю 2/3 їх математичне сподівання рівне 3, дисперсія рівна 1. Починаючи з оцінок P(k=1)=P(k=2)=0.5, a1=1, a2=2 реалізувати алгоритм самонавчання. \n",
    "Умовою зупинки алгоритму можна вважати, що оцінки a1, a2 не змінюються, а оцінки P(k=1), P(k=2) відрізняються менше ніж\n",
    "на 0.001."
   ]
  },
  {
   "cell_type": "code",
   "execution_count": 1,
   "id": "761d091c",
   "metadata": {},
   "outputs": [
    {
     "name": "stdout",
     "output_type": "stream",
     "text": [
      "X: [ 3.59963585  2.19516503  1.60352944 -0.05567165  4.27631759  2.69765338\n",
      "  0.86184464 -0.98850128  1.91134447 -0.40879478  3.1907752  -1.69213326\n",
      "  2.88966946  4.04364837 -0.55302916  3.25179326  2.31471473  3.73058781\n",
      " -0.10153327  3.09405172  2.41827559  4.44850225 -1.78050503  1.74433071\n",
      "  2.04378686  3.1929228   0.66775683  1.18938342  0.37608829  3.41237225\n",
      "  5.13591098 -0.86761719  1.66031255 -0.46854734  1.84891182  2.54999077\n",
      "  0.3100317   2.2034329   2.76476883  4.44656499  1.15293061  2.29846878\n",
      "  2.36457749 -0.01136477 -0.71410921  0.98393955  4.17819408  2.70854763\n",
      "  4.19972312  3.11931693]\n"
     ]
    }
   ],
   "source": [
    "import numpy as np\n",
    "#Маємо два стани:\n",
    "k1 = 1\n",
    "k2 = 2\n",
    "# Ймовірності для них\n",
    "P_k1 = 1/3\n",
    "P_k2 = 2/3\n",
    "\n",
    "\n",
    "# Для кожного стану маємо а\n",
    "\n",
    "# Коли стан 1, то маємо а1\n",
    "a1=[0, 1]\n",
    "# При цьому a=0 справжнє при к1\n",
    "a1_real = 0\n",
    "\n",
    "# Коли стан 2, то маємо а2\n",
    "a2=[2, 3]\n",
    "# a=3 справжнє при к2\n",
    "a2_real = 3\n",
    "\n",
    "\n",
    "# Генеруємо a1_real і a2_real за відповідними ймовірностями\n",
    "X = np.random.choice([a1_real, a2_real], size=50, p=[P_k1, P_k2])\n",
    "# print('X:', X)\n",
    "\n",
    "# Генеруємо гаусів шум та додаємо до Х \n",
    "noise=np.random.normal(size=50)\n",
    "# print('Noise:', noise)\n",
    "\n",
    "X=X+noise\n",
    "print('X:', X)"
   ]
  },
  {
   "cell_type": "code",
   "execution_count": 2,
   "id": "8fb47061",
   "metadata": {},
   "outputs": [],
   "source": [
    "#Початкові параметри для алгоритму ймовірність по 0.5 і беремо несправжні а1 і а2 \n",
    "p1_start, p2_start = 0.5, 0.5\n",
    "a1_start = 1\n",
    "a2_start = 2"
   ]
  },
  {
   "cell_type": "code",
   "execution_count": 3,
   "id": "60133e8d",
   "metadata": {},
   "outputs": [],
   "source": [
    "f = lambda x,a: np.exp(-((x-a)**2)/2)/np.sqrt(2*np.pi)"
   ]
  },
  {
   "cell_type": "code",
   "execution_count": 4,
   "id": "ca68e79c",
   "metadata": {},
   "outputs": [],
   "source": [
    "def max_of_sum(a,alpha):\n",
    "    a1=a[0]\n",
    "    a1sum=sum([alpha[i]*np.log(f(X[i],a1)) for i in range(len(X))])\n",
    "    \n",
    "    a2=a[1]\n",
    "    a2sum=sum([alpha[i]*np.log(f(X[i],a2)) for i in range(len(X))])\n",
    "    \n",
    "    print([a1sum,a2sum])\n",
    "    \n",
    "    return a[np.argmax([a1sum,a2sum])]\n",
    "    "
   ]
  },
  {
   "cell_type": "code",
   "execution_count": 7,
   "id": "ad939833",
   "metadata": {},
   "outputs": [],
   "source": [
    "def algoritm(p1start, p2start,a1start, a2start,X):\n",
    "    p1=p1start\n",
    "    p2=p2start\n",
    "    a1=a1start\n",
    "    a2=a2start\n",
    "    j=0\n",
    "    while(True):\n",
    "        print(\"Iter: \",j)\n",
    "        alpha1 = [(p1*f(X[i],a1))/(p1*f(X[i],a1)+p2*f(X[i],a2)) for i in range(len(X))]                   \n",
    "        alpha2 = [(p2*f(X[i],a2))/(p1*f(X[i],a1)+p2*f(X[i],a2)) for i in range(len(X))] \n",
    "        \n",
    "        p1_ = sum(alpha1)/len(X)\n",
    "        p2_ = sum(alpha2)/len(X)\n",
    "\n",
    "        a1_ = max_of_sum([0,1], alpha1)\n",
    "        a2_ = max_of_sum([2,3], alpha2) \n",
    "        \n",
    "        print(f\"a1 start: {a1} , a1 new: {a1_}\")\n",
    "        print(f\"a2 start: {a2} , a2 new: {a2_}\")\n",
    "        \n",
    "        print(f\"p1 start: {p1} , p1 new: {p1_}\")\n",
    "        print(f\"p2 start: {p2} , p2 new: {p2_}\")\n",
    "        \n",
    "        \n",
    "        \n",
    "        if a1==a1_ and a2==a2_ and abs(p1_-p1)<0.001 and abs(p2_-p2)<0.001:\n",
    "            print(\"Stoping...\\n\")\n",
    "            print(f\"For k=1, a_real={a1}, and for k=2 a_real={a2}\")\n",
    "            \n",
    "            \n",
    "            break\n",
    "        else:\n",
    "            a1 = a1_\n",
    "            a2 = a2_\n",
    "            p1 = p1_\n",
    "            p2 = p2_\n",
    "            print(\"Next iter...\")\n",
    "            j+=1\n",
    "    return "
   ]
  },
  {
   "cell_type": "code",
   "execution_count": 10,
   "id": "a2b39bff",
   "metadata": {},
   "outputs": [
    {
     "name": "stdout",
     "output_type": "stream",
     "text": [
      "Iter:  0\n",
      "[-48.50143339391596, -45.51760261834801]\n",
      "[-58.5542254812593, -50.08901080749734]\n",
      "a1 start: 1 , a1 new: 1\n",
      "a2 start: 2 , a2 new: 3\n",
      "p1 start: 0.5 , p1 new: 0.4301107971536626\n",
      "p2 start: 0.5 , p2 new: 0.5698892028463373\n",
      "Next iter...\n",
      "Iter:  1\n",
      "[-43.25992626312815, -44.35963277941913]\n",
      "[-53.89890695170992, -37.89065283285034]\n",
      "a1 start: 1 , a1 new: 0\n",
      "a2 start: 3 , a2 new: 3\n",
      "p1 start: 0.4301107971536626 , p1 new: 0.4647058186860491\n",
      "p2 start: 0.5698892028463373 , p2 new: 0.5352941813139508\n",
      "Next iter...\n",
      "Iter:  2\n",
      "[-28.27013652599662, -36.719988134702504]\n",
      "[-58.355144156763636, -43.330220250993214]\n",
      "a1 start: 0 , a1 new: 0\n",
      "a2 start: 3 , a2 new: 3\n",
      "p1 start: 0.4647058186860491 , p1 new: 0.3813710656310084\n",
      "p2 start: 0.5352941813139508 , p2 new: 0.6186289343689915\n",
      "Next iter...\n",
      "Iter:  3\n",
      "[-26.258413663336288, -35.619950136412385]\n",
      "[-59.40535919628673, -45.19247423735247]\n",
      "a1 start: 0 , a1 new: 0\n",
      "a2 start: 3 , a2 new: 3\n",
      "p1 start: 0.3813710656310084 , p1 new: 0.3641338275189451\n",
      "p2 start: 0.6186289343689915 , p2 new: 0.6358661724810548\n",
      "Next iter...\n",
      "Iter:  4\n",
      "[-25.859407833167715, -35.39689938169805]\n",
      "[-59.632030950457775, -45.602343065891226]\n",
      "a1 start: 0 , a1 new: 0\n",
      "a2 start: 3 , a2 new: 3\n",
      "p1 start: 0.3641338275189451 , p1 new: 0.36054230602072534\n",
      "p2 start: 0.6358661724810548 , p2 new: 0.6394576939792745\n",
      "Next iter...\n",
      "Iter:  5\n",
      "[-25.776736450420387, -35.35044086413355]\n",
      "[-59.6798838848784, -45.689197699206915]\n",
      "a1 start: 0 , a1 new: 0\n",
      "a2 start: 3 , a2 new: 3\n",
      "p1 start: 0.36054230602072534 , p1 new: 0.3597901603799466\n",
      "p2 start: 0.6394576939792745 , p2 new: 0.6402098396200536\n",
      "Stoping...\n",
      "\n",
      "For k=1, a_real=0, and for k=2 a_real=3\n",
      "\n",
      "Actual real a for k=1 is: 0\n",
      "Actual real a for k=2 is: 3\n"
     ]
    }
   ],
   "source": [
    "algoritm(p1_start, p2_start, a1_start, a2_start,X)\n",
    "print(f'\\nActual real a for k=1 is: {a1_real}')\n",
    "print(f'Actual real a for k=2 is: {a2_real}')"
   ]
  }
 ],
 "metadata": {
  "kernelspec": {
   "display_name": "Python 3 (ipykernel)",
   "language": "python",
   "name": "python3"
  },
  "language_info": {
   "codemirror_mode": {
    "name": "ipython",
    "version": 3
   },
   "file_extension": ".py",
   "mimetype": "text/x-python",
   "name": "python",
   "nbconvert_exporter": "python",
   "pygments_lexer": "ipython3",
   "version": "3.9.13"
  }
 },
 "nbformat": 4,
 "nbformat_minor": 5
}
