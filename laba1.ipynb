{
 "cells": [
  {
   "cell_type": "markdown",
   "id": "50fca931",
   "metadata": {},
   "source": [
    "Лабораторна робота №1\n",
    "\n",
    "Дана послідовність з 0 та 1, яка була отримана зміною кожної цифри\n",
    "початкової послідовності(яка також була з 0 і 1) з ймовірністю 0.5 для кожної\n",
    "цифри, незалежно одна від одної. Потрібно знайти оптимальну стратегію для\n",
    "відшукання суми всіх цифр початкової послідовності. Штрафною функцією\n",
    "буде різниця між сумами 2 послідовностей в квадраті.\n",
    "\n",
    "Лабораторну бажано робити на Python."
   ]
  },
  {
   "cell_type": "markdown",
   "id": "7cc17aa5",
   "metadata": {},
   "source": [
    "Відповідно до умови ми маємо K={0,1}^n , X={0,1}^n та D={0, 1, ..., n}\n",
    "\n",
    "Також ми знаємо, що p(x,k) рівноймовірні, тому вони не беруть участь в формуванні функції помилка\n",
    "\n",
    "p(x,k)=1/(2^n) * 1/(2^n) = 1/(2^2n)\n"
   ]
  },
  {
   "cell_type": "markdown",
   "id": "525641fe",
   "metadata": {},
   "source": [
    "В своїх реалізації я буду використовувати послідовності довжиною 12(але якщо необхідно можна змінити в змінній seq_len)"
   ]
  },
  {
   "cell_type": "code",
   "execution_count": 6,
   "id": "2c8ea688",
   "metadata": {},
   "outputs": [
    {
     "name": "stdout",
     "output_type": "stream",
     "text": [
      "[(0, 0, 0, 0, 0, 0, 0, 0, 0, 0, 0, 0), (0, 0, 0, 0, 0, 0, 0, 0, 0, 0, 0, 1), (0, 0, 0, 0, 0, 0, 0, 0, 0, 0, 1, 0), (0, 0, 0, 0, 0, 0, 0, 0, 0, 0, 1, 1), (0, 0, 0, 0, 0, 0, 0, 0, 0, 1, 0, 0), (0, 0, 0, 0, 0, 0, 0, 0, 0, 1, 0, 1)]\n"
     ]
    }
   ],
   "source": [
    "import itertools\n",
    "import numpy as np\n",
    "\n",
    "seq_len=12\n",
    "seq=[] # Всі можливі послідовності довжини seq_len\n",
    "\n",
    "for el in itertools.product([0,1],repeat=seq_len):\n",
    "    seq.append(el) # генерація всіх можливих послідовностей \n",
    "    \n",
    "print(seq[:6])"
   ]
  },
  {
   "cell_type": "markdown",
   "id": "6428e87f",
   "metadata": {},
   "source": [
    "Далі мені трреба знайти оптимальну стратегію, який в данному випадку нам треба мінімізовувати суму по к :  Σ(p(x,k) * W(k,d))\n",
    "\n",
    "Через те, що ймовірності однакові, ми фокусуємось на штрафній функції, що згідно умови має бути різниця між сумами 2 послідовностей в квадраті."
   ]
  },
  {
   "cell_type": "markdown",
   "id": "87ade524",
   "metadata": {},
   "source": [
    "Отже, в коді для кожного фіксованого к з К, я обчислюю середню квадратичну різниця між сумами 2 послідовностей."
   ]
  },
  {
   "cell_type": "code",
   "execution_count": 7,
   "id": "d41172d9",
   "metadata": {
    "scrolled": true
   },
   "outputs": [],
   "source": [
    "K=seq\n",
    "D=seq\n",
    "loss_sum=[]\n",
    "for i in range(len(D)):\n",
    "    loss=[] \n",
    "    \n",
    "    for j in range(len(K)):\n",
    "        loss_val=((sum(D[i])-sum(K[j]))**2)\n",
    "        loss.append(loss_val)\n",
    "#         print(loss)\n",
    "#     print(f'Sequence:{D[i]},\\t sum of sequence:{sum(D[i])},\\t sum loss:{sum(loss)}\\n')\n",
    "    loss_sum.append(sum(loss))\n",
    "        "
   ]
  },
  {
   "cell_type": "markdown",
   "id": "488885a1",
   "metadata": {},
   "source": [
    "Через те, що декілька моїх зразків мають значення, що дорівнює мінімуму по показницу середній квадратичній помилці, мені необхідно яка сума послідовності частіше приходить до цього значення. "
   ]
  },
  {
   "cell_type": "code",
   "execution_count": 8,
   "id": "0c780145",
   "metadata": {},
   "outputs": [
    {
     "data": {
      "text/plain": [
       "12288"
      ]
     },
     "execution_count": 8,
     "metadata": {},
     "output_type": "execute_result"
    }
   ],
   "source": [
    "min(loss_sum)"
   ]
  },
  {
   "cell_type": "code",
   "execution_count": 9,
   "id": "5be48e59",
   "metadata": {},
   "outputs": [
    {
     "data": {
      "text/plain": [
       "[63, 95, 111, 119, 123]"
      ]
     },
     "execution_count": 9,
     "metadata": {},
     "output_type": "execute_result"
    }
   ],
   "source": [
    "min_indx=[]\n",
    "for i in range(len(loss_sum)):\n",
    "    if loss_sum[i]==min(loss_sum):\n",
    "        min_indx.append(i)\n",
    "        \n",
    "min_indx[:5]"
   ]
  },
  {
   "cell_type": "code",
   "execution_count": 10,
   "id": "c61c7255",
   "metadata": {},
   "outputs": [
    {
     "data": {
      "text/plain": [
       "(array([6]), array([924], dtype=int64))"
      ]
     },
     "execution_count": 10,
     "metadata": {},
     "output_type": "execute_result"
    }
   ],
   "source": [
    "np.unique(np.array([sum(D[i]) for i in min_indx]),return_counts=True)"
   ]
  },
  {
   "cell_type": "markdown",
   "id": "ce05a0bd",
   "metadata": {},
   "source": [
    "Бачу що лише сума 6 приходить до мінімальної помилки, яка дорівнює 12288, таких комбінацій було 924. \n",
    "В підсумку, оптимальне значення для послідовності довжиною 12, є q=6"
   ]
  },
  {
   "cell_type": "code",
   "execution_count": null,
   "id": "cef7b8ab",
   "metadata": {},
   "outputs": [],
   "source": [
    "вв"
   ]
  }
 ],
 "metadata": {
  "kernelspec": {
   "display_name": "Python 3 (ipykernel)",
   "language": "python",
   "name": "python3"
  },
  "language_info": {
   "codemirror_mode": {
    "name": "ipython",
    "version": 3
   },
   "file_extension": ".py",
   "mimetype": "text/x-python",
   "name": "python",
   "nbconvert_exporter": "python",
   "pygments_lexer": "ipython3",
   "version": "3.9.13"
  }
 },
 "nbformat": 4,
 "nbformat_minor": 5
}
